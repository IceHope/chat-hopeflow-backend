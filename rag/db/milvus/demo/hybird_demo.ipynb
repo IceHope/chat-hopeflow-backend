{
 "cells": [
  {
   "cell_type": "code",
   "execution_count": 1,
   "metadata": {},
   "outputs": [
    {
     "name": "stderr",
     "output_type": "stream",
     "text": [
      "f:\\Git\\ChatHopeFlow\\chat-hopeflow-backend\\.venv\\Lib\\site-packages\\tqdm\\auto.py:21: TqdmWarning: IProgress not found. Please update jupyter and ipywidgets. See https://ipywidgets.readthedocs.io/en/stable/user_install.html\n",
      "  from .autonotebook import tqdm as notebook_tqdm\n"
     ]
    }
   ],
   "source": [
    "from typing import List\n",
    "\n",
    "from FlagEmbedding import BGEM3FlagModel\n",
    "model_dir = \"F:/HuggingFace/Embedding/bge-m3\"\n",
    "model = BGEM3FlagModel(model_dir, use_fp16=False)\n"
   ]
  },
  {
   "cell_type": "code",
   "execution_count": 43,
   "metadata": {},
   "outputs": [
    {
     "data": {
      "text/plain": [
       "defaultdict(int, {'33600': 1.2171164, '31': 1.0892353, '6661': 1.2170767})"
      ]
     },
     "execution_count": 43,
     "metadata": {},
     "output_type": "execute_result"
    }
   ],
   "source": [
    "documents: List[str] = [\"hello world\", \"hello milvus\"]\n",
    "text=\"Before college the two main things I worked on\"\n",
    "text=\"hello World\"\n",
    "outputs = model.encode(\n",
    "    text,\n",
    "    return_dense=False,\n",
    "    return_sparse=True,\n",
    "    return_colbert_vecs=False,\n",
    ")[\"lexical_weights\"]\n",
    "outputs"
   ]
  },
  {
   "cell_type": "markdown",
   "metadata": {},
   "source": [
    "hope---- defaultdict(int, {'15673': 0.18203396})"
   ]
  },
  {
   "cell_type": "code",
   "execution_count": 63,
   "metadata": {},
   "outputs": [
    {
     "name": "stdout",
     "output_type": "stream",
     "text": [
      "异常为空的数据\n"
     ]
    }
   ],
   "source": [
    "if outputs:\n",
    "    print(outputs)\n",
    "else:\n",
    "    print(\"异常为空的数据\")\n",
    "    from collections import defaultdict\n",
    "    # text=\"hello World\"\n",
    "    outputs = defaultdict(int, {'33600': 1.2171164, '31': 1.0892353, '6661': 1.2170767})"
   ]
  },
  {
   "cell_type": "code",
   "execution_count": 45,
   "metadata": {},
   "outputs": [
    {
     "data": {
      "text/plain": [
       "{'hell': 1.2171164, 'o': 1.0892353, 'World': 1.2170767}"
      ]
     },
     "execution_count": 45,
     "metadata": {},
     "output_type": "execute_result"
    }
   ],
   "source": [
    "from collections import defaultdict\n",
    "outputs = defaultdict(int, {'33600': 1.2171164, '31': 1.0892353, '6661': 1.2170767})\n",
    "result = model.convert_id_to_token(outputs)\n",
    "result"
   ]
  }
 ],
 "metadata": {
  "kernelspec": {
   "display_name": ".venv",
   "language": "python",
   "name": "python3"
  },
  "language_info": {
   "codemirror_mode": {
    "name": "ipython",
    "version": 3
   },
   "file_extension": ".py",
   "mimetype": "text/x-python",
   "name": "python",
   "nbconvert_exporter": "python",
   "pygments_lexer": "ipython3",
   "version": "3.11.9"
  }
 },
 "nbformat": 4,
 "nbformat_minor": 2
}
