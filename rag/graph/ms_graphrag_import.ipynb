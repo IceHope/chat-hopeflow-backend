{
 "cells": [
  {
   "cell_type": "markdown",
   "id": "f0e5eec3-5e80-46f0-9eb3-94216915c65b",
   "metadata": {},
   "source": [
    "## Neo4j Import of GraphRAG Result Parquet files\n",
    "This notebook imports the results of the GraphRAG indexing process into the Neo4j Graph database for further processing, analysis or visualization.\n",
    "\n",
    "### How does it work?\n",
    "The notebook loads the parquet files from the output folder of your indexing process and loads them into Pandas dataframes. It then uses a batching approach to send a slice of the data into Neo4j to create nodes and relationships and add relevant properties. The id-arrays on most entities are turned into relationships.\n",
    "\n",
    "All operations use `MERGE`, so they are idempotent, and you can run the script multiple times.\n",
    "\n",
    "If you need to clean out the database, you can run the following statement\n",
    "```\n",
    "MATCH (n)\n",
    "CALL { WITH n DETACH DELETE n } IN TRANSACTIONS OF 25000 ROWS;\n",
    "```"
   ]
  },
  {
   "cell_type": "code",
   "execution_count": 1,
   "id": "4581aea5-dacb-4bd3-b96c-f45d84ba05e3",
   "metadata": {},
   "outputs": [],
   "source": [
    "GRAPHRAG_FOLDER=\"./output/20240911-103108/artifacts\""
   ]
  },
  {
   "cell_type": "code",
   "execution_count": null,
   "id": "ea7c0995",
   "metadata": {},
   "outputs": [],
   "source": [
    "! pip install neo4j"
   ]
  },
  {
   "cell_type": "code",
   "execution_count": 2,
   "id": "3eeee95f-e4f2-4052-94fb-a5dc8ab542ae",
   "metadata": {},
   "outputs": [],
   "source": [
    "import pandas as pd\n",
    "from neo4j import GraphDatabase\n",
    "import time"
   ]
  },
  {
   "cell_type": "code",
   "execution_count": 17,
   "id": "b6c15443-4acb-4f91-88ea-4e08abaa4c29",
   "metadata": {},
   "outputs": [],
   "source": [
    "NEO4J_URI=\"bolt://localhost\"\n",
    "NEO4J_USERNAME=\"neo4j\"\n",
    "NEO4J_PASSWORD=\"AP585576ice\"\n",
    "NEO4J_DATABASE=\"test\"\n",
    "\n",
    "driver = GraphDatabase.driver(NEO4J_URI, auth=(NEO4J_USERNAME, NEO4J_PASSWORD))"
   ]
  },
  {
   "cell_type": "code",
   "execution_count": 4,
   "id": "d787bf7b-ac9b-4bfb-b140-a50a3fd205c5",
   "metadata": {},
   "outputs": [],
   "source": [
    "def batched_import(statement, df, batch_size=1000):\n",
    "    \"\"\"\n",
    "    Import a dataframe into Neo4j using a batched approach.\n",
    "    Parameters: statement is the Cypher query to execute, df is the dataframe to import, and batch_size is the number of rows to import in each batch.\n",
    "    \"\"\"\n",
    "    total = len(df)\n",
    "    start_s = time.time()\n",
    "    for start in range(0,total, batch_size):\n",
    "        batch = df.iloc[start: min(start+batch_size,total)]\n",
    "        result = driver.execute_query(\"UNWIND $rows AS value \" + statement, \n",
    "                                      rows=batch.to_dict('records'),\n",
    "                                      database_=NEO4J_DATABASE)\n",
    "        print(result.summary.counters)\n",
    "    print(f'{total} rows in { time.time() - start_s} s.')    \n",
    "    return total"
   ]
  },
  {
   "cell_type": "markdown",
   "id": "eceb8ef0-90fe-4aab-812b-def8f62fd0ad",
   "metadata": {},
   "source": [
    "### Indexes and Constraints\n",
    "Indexes in Neo4j are only used to find the starting points for graph queries, e.g. quickly finding two nodes to connect. Constraints exist to avoid duplicates, we create them mostly on id's of Entity types.\n",
    "\n",
    "We use some Types as markers with two underscores before and after to distinguish them from the actual entity types.\n",
    "\n",
    "The default relationship type here is `RELATED` but we could also infer a real relationship-type from the description or the types of the start and end-nodes.\n",
    "\n",
    "* `__Entity__`\n",
    "* `__Document__`\n",
    "* `__Chunk__`\n",
    "* `__Community__`\n",
    "* `__Covariate__`"
   ]
  },
  {
   "cell_type": "code",
   "execution_count": 18,
   "id": "ed7f212e-9148-424c-adc6-d81db9f8e5a5",
   "metadata": {},
   "outputs": [
    {
     "name": "stdout",
     "output_type": "stream",
     "text": [
      "\n",
      "create constraint chunk_id if not exists for (c:__Chunk__) require c.id is unique\n",
      "\n",
      "create constraint document_id if not exists for (d:__Document__) require d.id is unique\n",
      "\n",
      "create constraint entity_id if not exists for (c:__Community__) require c.community is unique\n",
      "\n",
      "create constraint entity_id if not exists for (e:__Entity__) require e.id is unique\n",
      "\n",
      "create constraint entity_title if not exists for (e:__Entity__) require e.name is unique\n",
      "\n",
      "create constraint entity_title if not exists for (e:__Covariate__) require e.title is unique\n",
      "\n",
      "create constraint related_id if not exists for ()-[rel:RELATED]->() require rel.id is unique\n"
     ]
    }
   ],
   "source": [
    "# create constraints, idempotent operation\n",
    "\n",
    "statements = \"\"\"\n",
    "create constraint chunk_id if not exists for (c:__Chunk__) require c.id is unique;\n",
    "create constraint document_id if not exists for (d:__Document__) require d.id is unique;\n",
    "create constraint entity_id if not exists for (c:__Community__) require c.community is unique;\n",
    "create constraint entity_id if not exists for (e:__Entity__) require e.id is unique;\n",
    "create constraint entity_title if not exists for (e:__Entity__) require e.name is unique;\n",
    "create constraint entity_title if not exists for (e:__Covariate__) require e.title is unique;\n",
    "create constraint related_id if not exists for ()-[rel:RELATED]->() require rel.id is unique;\n",
    "\"\"\".split(\";\")\n",
    "\n",
    "for statement in statements:\n",
    "    if len((statement or \"\").strip()) > 0:\n",
    "        print(statement)\n",
    "        driver.execute_query(statement)"
   ]
  },
  {
   "cell_type": "markdown",
   "id": "e9b611db-03d4-4afc-ba9c-a801c3d26d91",
   "metadata": {},
   "source": [
    "## Import Process\n",
    "### Importing the Documents\n",
    "We're loading the parquet file for the documents and create nodes with their ids and add the title property. We don't need to store text_unit_ids as we can create the relationships and the text content is also contained in the chunks."
   ]
  },
  {
   "cell_type": "code",
   "execution_count": 19,
   "id": "5ec93c92-499d-4ec6-bf3b-c34f74552600",
   "metadata": {},
   "outputs": [
    {
     "data": {
      "text/html": [
       "<div>\n",
       "<style scoped>\n",
       "    .dataframe tbody tr th:only-of-type {\n",
       "        vertical-align: middle;\n",
       "    }\n",
       "\n",
       "    .dataframe tbody tr th {\n",
       "        vertical-align: top;\n",
       "    }\n",
       "\n",
       "    .dataframe thead th {\n",
       "        text-align: right;\n",
       "    }\n",
       "</style>\n",
       "<table border=\"1\" class=\"dataframe\">\n",
       "  <thead>\n",
       "    <tr style=\"text-align: right;\">\n",
       "      <th></th>\n",
       "      <th>id</th>\n",
       "      <th>title</th>\n",
       "    </tr>\n",
       "  </thead>\n",
       "  <tbody>\n",
       "    <tr>\n",
       "      <th>0</th>\n",
       "      <td>43368cc493912556756c5e329beb8751</td>\n",
       "      <td>1.txt</td>\n",
       "    </tr>\n",
       "    <tr>\n",
       "      <th>1</th>\n",
       "      <td>4ec1cf21f5ef9d80f787daccb3f38e75</td>\n",
       "      <td>2.txt</td>\n",
       "    </tr>\n",
       "  </tbody>\n",
       "</table>\n",
       "</div>"
      ],
      "text/plain": [
       "                                 id  title\n",
       "0  43368cc493912556756c5e329beb8751  1.txt\n",
       "1  4ec1cf21f5ef9d80f787daccb3f38e75  2.txt"
      ]
     },
     "execution_count": 19,
     "metadata": {},
     "output_type": "execute_result"
    }
   ],
   "source": [
    "doc_df = pd.read_parquet(f'{GRAPHRAG_FOLDER}/create_final_documents.parquet', columns=[\"id\", \"title\"])\n",
    "doc_df.head(2)"
   ]
  },
  {
   "cell_type": "code",
   "execution_count": 20,
   "id": "ffd3d380-8710-46f5-b90a-04ed8482192c",
   "metadata": {},
   "outputs": [
    {
     "name": "stdout",
     "output_type": "stream",
     "text": [
      "{'_contains_updates': True, 'labels_added': 9, 'nodes_created': 9, 'properties_set': 18}\n",
      "9 rows in 0.10932278633117676 s.\n"
     ]
    },
    {
     "data": {
      "text/plain": [
       "9"
      ]
     },
     "execution_count": 20,
     "metadata": {},
     "output_type": "execute_result"
    }
   ],
   "source": [
    "# import documents\n",
    "statement = \"\"\"\n",
    "MERGE (d:__Document__ {id:value.id})\n",
    "SET d += value {.title}\n",
    "\"\"\"\n",
    "\n",
    "batched_import(statement, doc_df)"
   ]
  },
  {
   "cell_type": "markdown",
   "id": "d9aa9028-4b62-4a14-86be-fad56b0c77f3",
   "metadata": {},
   "source": [
    "### Loading Text Units\n",
    "We load the text units, create a node per id and set the text and number of tokens. Then we connect them to the documents that we created before."
   ]
  },
  {
   "cell_type": "code",
   "execution_count": 21,
   "id": "140b420e-045e-4c71-9f25-1a20c5b528bd",
   "metadata": {},
   "outputs": [
    {
     "data": {
      "text/html": [
       "<div>\n",
       "<style scoped>\n",
       "    .dataframe tbody tr th:only-of-type {\n",
       "        vertical-align: middle;\n",
       "    }\n",
       "\n",
       "    .dataframe tbody tr th {\n",
       "        vertical-align: top;\n",
       "    }\n",
       "\n",
       "    .dataframe thead th {\n",
       "        text-align: right;\n",
       "    }\n",
       "</style>\n",
       "<table border=\"1\" class=\"dataframe\">\n",
       "  <thead>\n",
       "    <tr style=\"text-align: right;\">\n",
       "      <th></th>\n",
       "      <th>id</th>\n",
       "      <th>text</th>\n",
       "      <th>n_tokens</th>\n",
       "      <th>document_ids</th>\n",
       "    </tr>\n",
       "  </thead>\n",
       "  <tbody>\n",
       "    <tr>\n",
       "      <th>0</th>\n",
       "      <td>49f2c2ae5443497c09490140bb6cd1f9</td>\n",
       "      <td>第4回 五行山从师取真经\\n\\n  　　五百年以后，观音菩萨奉了如来佛的法旨，带着锦袈裟等五...</td>\n",
       "      <td>300</td>\n",
       "      <td>[1603f328b4ed185c3925e1fee2b550a5]</td>\n",
       "    </tr>\n",
       "    <tr>\n",
       "      <th>1</th>\n",
       "      <td>3cebda9b412902bb448a08de15092bf0</td>\n",
       "      <td>来佛二弟子金蝉子转世的，观音暗中选定他为取经人，自己与惠岸行者变成了游方和尚，捧着袈裟等宝贝...</td>\n",
       "      <td>300</td>\n",
       "      <td>[1603f328b4ed185c3925e1fee2b550a5]</td>\n",
       "    </tr>\n",
       "  </tbody>\n",
       "</table>\n",
       "</div>"
      ],
      "text/plain": [
       "                                 id  \\\n",
       "0  49f2c2ae5443497c09490140bb6cd1f9   \n",
       "1  3cebda9b412902bb448a08de15092bf0   \n",
       "\n",
       "                                                text  n_tokens  \\\n",
       "0  第4回 五行山从师取真经\\n\\n  　　五百年以后，观音菩萨奉了如来佛的法旨，带着锦袈裟等五...       300   \n",
       "1  来佛二弟子金蝉子转世的，观音暗中选定他为取经人，自己与惠岸行者变成了游方和尚，捧着袈裟等宝贝...       300   \n",
       "\n",
       "                         document_ids  \n",
       "0  [1603f328b4ed185c3925e1fee2b550a5]  \n",
       "1  [1603f328b4ed185c3925e1fee2b550a5]  "
      ]
     },
     "execution_count": 21,
     "metadata": {},
     "output_type": "execute_result"
    }
   ],
   "source": [
    "text_df = pd.read_parquet(f'{GRAPHRAG_FOLDER}/create_final_text_units.parquet',\n",
    "                          columns=[\"id\",\"text\",\"n_tokens\",\"document_ids\"])\n",
    "text_df.head(2)"
   ]
  },
  {
   "cell_type": "code",
   "execution_count": 22,
   "id": "1d038114-0714-48ee-a48a-c421cd539661",
   "metadata": {},
   "outputs": [
    {
     "name": "stdout",
     "output_type": "stream",
     "text": [
      "{'_contains_updates': True, 'labels_added': 145, 'relationships_created': 145, 'nodes_created': 145, 'properties_set': 435}\n",
      "145 rows in 0.24593043327331543 s.\n"
     ]
    },
    {
     "data": {
      "text/plain": [
       "145"
      ]
     },
     "execution_count": 22,
     "metadata": {},
     "output_type": "execute_result"
    }
   ],
   "source": [
    "statement = \"\"\"\n",
    "MERGE (c:__Chunk__ {id:value.id})\n",
    "SET c += value {.text, .n_tokens}\n",
    "WITH c, value\n",
    "UNWIND value.document_ids AS document\n",
    "MATCH (d:__Document__ {id:document})\n",
    "MERGE (c)-[:PART_OF]->(d)\n",
    "\"\"\"\n",
    "\n",
    "batched_import(statement, text_df)"
   ]
  },
  {
   "cell_type": "markdown",
   "id": "9c614c5f-6925-4237-a1bf-6ebd35dcea38",
   "metadata": {},
   "source": [
    "### Loading Nodes\n",
    "For the nodes we store id, name, description, embedding (if available), human readable id."
   ]
  },
  {
   "cell_type": "code",
   "execution_count": 23,
   "id": "5e713603-c508-4964-ba49-474e4867b747",
   "metadata": {},
   "outputs": [
    {
     "data": {
      "text/html": [
       "<div>\n",
       "<style scoped>\n",
       "    .dataframe tbody tr th:only-of-type {\n",
       "        vertical-align: middle;\n",
       "    }\n",
       "\n",
       "    .dataframe tbody tr th {\n",
       "        vertical-align: top;\n",
       "    }\n",
       "\n",
       "    .dataframe thead th {\n",
       "        text-align: right;\n",
       "    }\n",
       "</style>\n",
       "<table border=\"1\" class=\"dataframe\">\n",
       "  <thead>\n",
       "    <tr style=\"text-align: right;\">\n",
       "      <th></th>\n",
       "      <th>name</th>\n",
       "      <th>type</th>\n",
       "      <th>description</th>\n",
       "      <th>human_readable_id</th>\n",
       "      <th>id</th>\n",
       "      <th>description_embedding</th>\n",
       "      <th>text_unit_ids</th>\n",
       "    </tr>\n",
       "  </thead>\n",
       "  <tbody>\n",
       "    <tr>\n",
       "      <th>0</th>\n",
       "      <td>\"五行山\"</td>\n",
       "      <td>\"GEO\"</td>\n",
       "      <td>The \"Five Elements Mountain,\" also known as \"W...</td>\n",
       "      <td>0</td>\n",
       "      <td>b45241d70f0e43fca764df95b2b81f77</td>\n",
       "      <td>[-0.02117370069026947, -0.07958780229091644, 0...</td>\n",
       "      <td>[3d7b1af4625ae7ce28aee97b4905f6a2, 49f2c2ae544...</td>\n",
       "    </tr>\n",
       "    <tr>\n",
       "      <th>1</th>\n",
       "      <td>\"观音菩萨\"</td>\n",
       "      <td>\"PERSON\"</td>\n",
       "      <td>The entity \"Guanyin Bodhisattva,\" also known a...</td>\n",
       "      <td>1</td>\n",
       "      <td>4119fd06010c494caa07f439b333f4c5</td>\n",
       "      <td>[-0.09430186450481415, -0.7348642945289612, 0....</td>\n",
       "      <td>[122240eec13dc4e3f2d7a6f5a9694749, 1c779f74d5f...</td>\n",
       "    </tr>\n",
       "  </tbody>\n",
       "</table>\n",
       "</div>"
      ],
      "text/plain": [
       "     name      type                                        description  \\\n",
       "0   \"五行山\"     \"GEO\"  The \"Five Elements Mountain,\" also known as \"W...   \n",
       "1  \"观音菩萨\"  \"PERSON\"  The entity \"Guanyin Bodhisattva,\" also known a...   \n",
       "\n",
       "   human_readable_id                                id  \\\n",
       "0                  0  b45241d70f0e43fca764df95b2b81f77   \n",
       "1                  1  4119fd06010c494caa07f439b333f4c5   \n",
       "\n",
       "                               description_embedding  \\\n",
       "0  [-0.02117370069026947, -0.07958780229091644, 0...   \n",
       "1  [-0.09430186450481415, -0.7348642945289612, 0....   \n",
       "\n",
       "                                       text_unit_ids  \n",
       "0  [3d7b1af4625ae7ce28aee97b4905f6a2, 49f2c2ae544...  \n",
       "1  [122240eec13dc4e3f2d7a6f5a9694749, 1c779f74d5f...  "
      ]
     },
     "execution_count": 23,
     "metadata": {},
     "output_type": "execute_result"
    }
   ],
   "source": [
    "entity_df = pd.read_parquet(f'{GRAPHRAG_FOLDER}/create_final_entities.parquet',\n",
    "                            columns=[\"name\",\"type\",\"description\",\"human_readable_id\",\"id\",\"description_embedding\",\"text_unit_ids\"])\n",
    "entity_df.head(2)"
   ]
  },
  {
   "cell_type": "code",
   "execution_count": 24,
   "id": "27900c01-89e1-4dec-9d5c-c07317c68baf",
   "metadata": {},
   "outputs": [
    {
     "name": "stdout",
     "output_type": "stream",
     "text": [
      "{'_contains_updates': True, 'labels_added': 369, 'relationships_created': 920, 'nodes_created': 369, 'properties_set': 1476}\n",
      "369 rows in 2.451350688934326 s.\n"
     ]
    },
    {
     "data": {
      "text/plain": [
       "369"
      ]
     },
     "execution_count": 24,
     "metadata": {},
     "output_type": "execute_result"
    }
   ],
   "source": [
    "entity_statement = \"\"\"\n",
    "MERGE (e:__Entity__ {id:value.id})\n",
    "SET e += value {.human_readable_id, .description, name:replace(value.name,'\"','')}\n",
    "WITH e, value\n",
    "CALL db.create.setNodeVectorProperty(e, \"description_embedding\", value.description_embedding)\n",
    "CALL apoc.create.addLabels(e, case when coalesce(value.type,\"\") = \"\" then [] else [apoc.text.upperCamelCase(replace(value.type,'\"',''))] end) yield node\n",
    "UNWIND value.text_unit_ids AS text_unit\n",
    "MATCH (c:__Chunk__ {id:text_unit})\n",
    "MERGE (c)-[:HAS_ENTITY]->(e)\n",
    "\"\"\"\n",
    "\n",
    "batched_import(entity_statement, entity_df)"
   ]
  },
  {
   "cell_type": "markdown",
   "id": "619e1dd1-06ab-4741-9f5c-f1c7fb8f8bac",
   "metadata": {},
   "source": [
    "### Import Relationships\n",
    "For the relationships we find the source and target node by name, using the base `__Entity__` type. After creating the RELATED relationships, we set the description as attribute."
   ]
  },
  {
   "cell_type": "code",
   "execution_count": 25,
   "id": "1be9e7a9-69ee-406b-bce5-95a9c41ecffe",
   "metadata": {},
   "outputs": [
    {
     "data": {
      "text/html": [
       "<div>\n",
       "<style scoped>\n",
       "    .dataframe tbody tr th:only-of-type {\n",
       "        vertical-align: middle;\n",
       "    }\n",
       "\n",
       "    .dataframe tbody tr th {\n",
       "        vertical-align: top;\n",
       "    }\n",
       "\n",
       "    .dataframe thead th {\n",
       "        text-align: right;\n",
       "    }\n",
       "</style>\n",
       "<table border=\"1\" class=\"dataframe\">\n",
       "  <thead>\n",
       "    <tr style=\"text-align: right;\">\n",
       "      <th></th>\n",
       "      <th>source</th>\n",
       "      <th>target</th>\n",
       "      <th>id</th>\n",
       "      <th>rank</th>\n",
       "      <th>weight</th>\n",
       "      <th>human_readable_id</th>\n",
       "      <th>description</th>\n",
       "      <th>text_unit_ids</th>\n",
       "    </tr>\n",
       "  </thead>\n",
       "  <tbody>\n",
       "    <tr>\n",
       "      <th>0</th>\n",
       "      <td>\"五行山\"</td>\n",
       "      <td>\"孙悟空\"</td>\n",
       "      <td>bc70fee2061541148833d19e86f225b3</td>\n",
       "      <td>58</td>\n",
       "      <td>1.0</td>\n",
       "      <td>0</td>\n",
       "      <td>\"Sun Wukong was imprisoned in the Five Element...</td>\n",
       "      <td>[bd4161d66503cacdbfb59cc2b2b15888]</td>\n",
       "    </tr>\n",
       "    <tr>\n",
       "      <th>1</th>\n",
       "      <td>\"五行山\"</td>\n",
       "      <td>\"悟空\"</td>\n",
       "      <td>0fc15cc3b44c4142a770feb4c037a6f7</td>\n",
       "      <td>96</td>\n",
       "      <td>2.0</td>\n",
       "      <td>1</td>\n",
       "      <td>The entity \"五行山\" (Five-Heaven Mountain) is dir...</td>\n",
       "      <td>[3d7b1af4625ae7ce28aee97b4905f6a2, f2ae22fce21...</td>\n",
       "    </tr>\n",
       "  </tbody>\n",
       "</table>\n",
       "</div>"
      ],
      "text/plain": [
       "  source target                                id  rank  weight  \\\n",
       "0  \"五行山\"  \"孙悟空\"  bc70fee2061541148833d19e86f225b3    58     1.0   \n",
       "1  \"五行山\"   \"悟空\"  0fc15cc3b44c4142a770feb4c037a6f7    96     2.0   \n",
       "\n",
       "  human_readable_id                                        description  \\\n",
       "0                 0  \"Sun Wukong was imprisoned in the Five Element...   \n",
       "1                 1  The entity \"五行山\" (Five-Heaven Mountain) is dir...   \n",
       "\n",
       "                                       text_unit_ids  \n",
       "0                 [bd4161d66503cacdbfb59cc2b2b15888]  \n",
       "1  [3d7b1af4625ae7ce28aee97b4905f6a2, f2ae22fce21...  "
      ]
     },
     "execution_count": 25,
     "metadata": {},
     "output_type": "execute_result"
    }
   ],
   "source": [
    "rel_df = pd.read_parquet(f'{GRAPHRAG_FOLDER}/create_final_relationships.parquet',\n",
    "                         columns=[\"source\",\"target\",\"id\",\"rank\",\"weight\",\"human_readable_id\",\"description\",\"text_unit_ids\"])\n",
    "rel_df.head(2)"
   ]
  },
  {
   "cell_type": "code",
   "execution_count": 26,
   "id": "5c6ed591-f98c-4403-9fde-8d4cb4c01cca",
   "metadata": {},
   "outputs": [
    {
     "name": "stdout",
     "output_type": "stream",
     "text": [
      "{'_contains_updates': True, 'relationships_created': 423, 'properties_set': 2538}\n",
      "423 rows in 1.228727102279663 s.\n"
     ]
    },
    {
     "data": {
      "text/plain": [
       "423"
      ]
     },
     "execution_count": 26,
     "metadata": {},
     "output_type": "execute_result"
    }
   ],
   "source": [
    "rel_statement = \"\"\"\n",
    "    MATCH (source:__Entity__ {name:replace(value.source,'\"','')})\n",
    "    MATCH (target:__Entity__ {name:replace(value.target,'\"','')})\n",
    "    // not necessary to merge on id as there is only one relationship per pair\n",
    "    MERGE (source)-[rel:RELATED {id: value.id}]->(target)\n",
    "    SET rel += value {.rank, .weight, .human_readable_id, .description, .text_unit_ids}\n",
    "    RETURN count(*) as createdRels\n",
    "\"\"\"\n",
    "\n",
    "batched_import(rel_statement, rel_df)"
   ]
  },
  {
   "cell_type": "markdown",
   "id": "67d02faf-b305-44c0-9cba-7328d61b833d",
   "metadata": {},
   "source": [
    "### Importing Communities\n",
    "For communities we import their id, title, level. We connect the `__Community__` nodes to the start and end nodes of the relationships they refer to.\n",
    "\n",
    "Connecting them to the chunks they orignate from is optional, as the entites are already connected to the chunks."
   ]
  },
  {
   "cell_type": "code",
   "execution_count": 27,
   "id": "523bed92-d12c-4fc4-aa44-6c62321b36bc",
   "metadata": {},
   "outputs": [
    {
     "data": {
      "text/html": [
       "<div>\n",
       "<style scoped>\n",
       "    .dataframe tbody tr th:only-of-type {\n",
       "        vertical-align: middle;\n",
       "    }\n",
       "\n",
       "    .dataframe tbody tr th {\n",
       "        vertical-align: top;\n",
       "    }\n",
       "\n",
       "    .dataframe thead th {\n",
       "        text-align: right;\n",
       "    }\n",
       "</style>\n",
       "<table border=\"1\" class=\"dataframe\">\n",
       "  <thead>\n",
       "    <tr style=\"text-align: right;\">\n",
       "      <th></th>\n",
       "      <th>id</th>\n",
       "      <th>level</th>\n",
       "      <th>title</th>\n",
       "      <th>text_unit_ids</th>\n",
       "      <th>relationship_ids</th>\n",
       "    </tr>\n",
       "  </thead>\n",
       "  <tbody>\n",
       "    <tr>\n",
       "      <th>0</th>\n",
       "      <td>0</td>\n",
       "      <td>0</td>\n",
       "      <td>Community 0</td>\n",
       "      <td>[3d7b1af4625ae7ce28aee97b4905f6a2,49f2c2ae5443...</td>\n",
       "      <td>[bc70fee2061541148833d19e86f225b3, 0fc15cc3b44...</td>\n",
       "    </tr>\n",
       "    <tr>\n",
       "      <th>1</th>\n",
       "      <td>1</td>\n",
       "      <td>0</td>\n",
       "      <td>Community 1</td>\n",
       "      <td>[122240eec13dc4e3f2d7a6f5a9694749,1c779f74d5f8...</td>\n",
       "      <td>[a24e9df02e1b4b43bf6324b039e28285, ab3a5a67132...</td>\n",
       "    </tr>\n",
       "  </tbody>\n",
       "</table>\n",
       "</div>"
      ],
      "text/plain": [
       "  id  level        title                                      text_unit_ids  \\\n",
       "0  0      0  Community 0  [3d7b1af4625ae7ce28aee97b4905f6a2,49f2c2ae5443...   \n",
       "1  1      0  Community 1  [122240eec13dc4e3f2d7a6f5a9694749,1c779f74d5f8...   \n",
       "\n",
       "                                    relationship_ids  \n",
       "0  [bc70fee2061541148833d19e86f225b3, 0fc15cc3b44...  \n",
       "1  [a24e9df02e1b4b43bf6324b039e28285, ab3a5a67132...  "
      ]
     },
     "execution_count": 27,
     "metadata": {},
     "output_type": "execute_result"
    }
   ],
   "source": [
    "community_df = pd.read_parquet(f'{GRAPHRAG_FOLDER}/create_final_communities.parquet', \n",
    "                     columns=[\"id\",\"level\",\"title\",\"text_unit_ids\",\"relationship_ids\"])\n",
    "\n",
    "community_df.head(2)"
   ]
  },
  {
   "cell_type": "code",
   "execution_count": 28,
   "id": "3e064234-5fce-448e-8bb4-ab2f35699049",
   "metadata": {},
   "outputs": [
    {
     "name": "stdout",
     "output_type": "stream",
     "text": [
      "{'_contains_updates': True, 'labels_added': 58, 'relationships_created': 1171, 'nodes_created': 58, 'properties_set': 174}\n",
      "58 rows in 2.161278009414673 s.\n"
     ]
    },
    {
     "data": {
      "text/plain": [
       "58"
      ]
     },
     "execution_count": 28,
     "metadata": {},
     "output_type": "execute_result"
    }
   ],
   "source": [
    "statement = \"\"\"\n",
    "MERGE (c:__Community__ {community:value.id})\n",
    "SET c += value {.level, .title}\n",
    "/*\n",
    "UNWIND value.text_unit_ids as text_unit_id\n",
    "MATCH (t:__Chunk__ {id:text_unit_id})\n",
    "MERGE (c)-[:HAS_CHUNK]->(t)\n",
    "WITH distinct c, value\n",
    "*/\n",
    "WITH *\n",
    "UNWIND value.relationship_ids as rel_id\n",
    "MATCH (start:__Entity__)-[:RELATED {id:rel_id}]->(end:__Entity__)\n",
    "MERGE (start)-[:IN_COMMUNITY]->(c)\n",
    "MERGE (end)-[:IN_COMMUNITY]->(c)\n",
    "RETURN count(distinct c) as createdCommunities\n",
    "\"\"\"\n",
    "\n",
    "batched_import(statement, community_df)"
   ]
  },
  {
   "cell_type": "markdown",
   "id": "e27325cd-6ba8-43b4-8781-f9a81af5e242",
   "metadata": {},
   "source": [
    "### Importing Community Reports\n",
    "Fo the community reports we create nodes for each communitiy set the id, community, level, title, summary, rank, and rank_explanation and connect them to the entities they are about. For the findings we create the findings in context of the communities."
   ]
  },
  {
   "cell_type": "code",
   "execution_count": 29,
   "id": "fc9f6606-0cce-4f28-9d88-eaf894d8110b",
   "metadata": {},
   "outputs": [
    {
     "data": {
      "text/html": [
       "<div>\n",
       "<style scoped>\n",
       "    .dataframe tbody tr th:only-of-type {\n",
       "        vertical-align: middle;\n",
       "    }\n",
       "\n",
       "    .dataframe tbody tr th {\n",
       "        vertical-align: top;\n",
       "    }\n",
       "\n",
       "    .dataframe thead th {\n",
       "        text-align: right;\n",
       "    }\n",
       "</style>\n",
       "<table border=\"1\" class=\"dataframe\">\n",
       "  <thead>\n",
       "    <tr style=\"text-align: right;\">\n",
       "      <th></th>\n",
       "      <th>id</th>\n",
       "      <th>community</th>\n",
       "      <th>level</th>\n",
       "      <th>title</th>\n",
       "      <th>summary</th>\n",
       "      <th>findings</th>\n",
       "      <th>rank</th>\n",
       "      <th>rank_explanation</th>\n",
       "      <th>full_content</th>\n",
       "    </tr>\n",
       "  </thead>\n",
       "  <tbody>\n",
       "    <tr>\n",
       "      <th>0</th>\n",
       "      <td>7cc91019-b9b7-4d23-a93c-f5f93aea0a19</td>\n",
       "      <td>48</td>\n",
       "      <td>2</td>\n",
       "      <td>Monkey King's Journey Community</td>\n",
       "      <td>The Monkey King's Journey Community is centere...</td>\n",
       "      <td>[{'explanation': 'Sun Wukong, the Monkey King,...</td>\n",
       "      <td>7.5</td>\n",
       "      <td>The impact severity rating is high due to the ...</td>\n",
       "      <td># Monkey King's Journey Community\\n\\nThe Monke...</td>\n",
       "    </tr>\n",
       "    <tr>\n",
       "      <th>1</th>\n",
       "      <td>98537d67-3419-4709-9582-2c745928501f</td>\n",
       "      <td>49</td>\n",
       "      <td>2</td>\n",
       "      <td>Monsters and Mythical Entities Community</td>\n",
       "      <td>The Monsters and Mythical Entities Community i...</td>\n",
       "      <td>[{'explanation': 'The Demon King's monsters ar...</td>\n",
       "      <td>4.5</td>\n",
       "      <td>The impact severity rating is moderate due to ...</td>\n",
       "      <td># Monsters and Mythical Entities Community\\n\\n...</td>\n",
       "    </tr>\n",
       "  </tbody>\n",
       "</table>\n",
       "</div>"
      ],
      "text/plain": [
       "                                     id community  level  \\\n",
       "0  7cc91019-b9b7-4d23-a93c-f5f93aea0a19        48      2   \n",
       "1  98537d67-3419-4709-9582-2c745928501f        49      2   \n",
       "\n",
       "                                      title  \\\n",
       "0           Monkey King's Journey Community   \n",
       "1  Monsters and Mythical Entities Community   \n",
       "\n",
       "                                             summary  \\\n",
       "0  The Monkey King's Journey Community is centere...   \n",
       "1  The Monsters and Mythical Entities Community i...   \n",
       "\n",
       "                                            findings  rank  \\\n",
       "0  [{'explanation': 'Sun Wukong, the Monkey King,...   7.5   \n",
       "1  [{'explanation': 'The Demon King's monsters ar...   4.5   \n",
       "\n",
       "                                    rank_explanation  \\\n",
       "0  The impact severity rating is high due to the ...   \n",
       "1  The impact severity rating is moderate due to ...   \n",
       "\n",
       "                                        full_content  \n",
       "0  # Monkey King's Journey Community\\n\\nThe Monke...  \n",
       "1  # Monsters and Mythical Entities Community\\n\\n...  "
      ]
     },
     "execution_count": 29,
     "metadata": {},
     "output_type": "execute_result"
    }
   ],
   "source": [
    "community_report_df = pd.read_parquet(f'{GRAPHRAG_FOLDER}/create_final_community_reports.parquet',\n",
    "                               columns=[\"id\",\"community\",\"level\",\"title\",\"summary\", \"findings\",\"rank\",\"rank_explanation\",\"full_content\"])\n",
    "community_report_df.head(2)"
   ]
  },
  {
   "cell_type": "code",
   "execution_count": 30,
   "id": "47bb6f5c-4c1c-4849-8f1a-cb76fa98b925",
   "metadata": {},
   "outputs": [
    {
     "name": "stdout",
     "output_type": "stream",
     "text": [
      "{'_contains_updates': True, 'labels_added': 277, 'relationships_created': 277, 'nodes_created': 277, 'properties_set': 1155}\n",
      "54 rows in 0.30412888526916504 s.\n"
     ]
    },
    {
     "data": {
      "text/plain": [
       "54"
      ]
     },
     "execution_count": 30,
     "metadata": {},
     "output_type": "execute_result"
    }
   ],
   "source": [
    "# import communities\n",
    "community_statement = \"\"\"\n",
    "MERGE (c:__Community__ {community:value.community})\n",
    "SET c += value {.level, .title, .rank, .rank_explanation, .full_content, .summary}\n",
    "WITH c, value\n",
    "UNWIND range(0, size(value.findings)-1) AS finding_idx\n",
    "WITH c, value, finding_idx, value.findings[finding_idx] as finding\n",
    "MERGE (c)-[:HAS_FINDING]->(f:Finding {id:finding_idx})\n",
    "SET f += finding\n",
    "\"\"\"\n",
    "batched_import(community_statement, community_report_df)"
   ]
  },
  {
   "cell_type": "markdown",
   "id": "44990c84-a2a8-4f1a-b758-fe1c1a02766f",
   "metadata": {},
   "source": [
    "### Importing Covariates\n",
    "Covariates are for instance claims on entities, we connect them to the chunks where they originate from.\n",
    "\n",
    "**By default, covariates are not included in the output, so the file might not exists in your output if you didn't set the configuration to extract claims**"
   ]
  },
  {
   "cell_type": "code",
   "execution_count": 39,
   "id": "7131f3a0-2b71-4017-9dcd-24913d964dc0",
   "metadata": {},
   "outputs": [
    {
     "data": {
      "text/plain": [
       "\"\\n# cov_df = pd.read_parquet(f'{GRAPHRAG_FOLDER}/create_final_covariates.parquet')\\n# cov_df.head(2)\\n\""
      ]
     },
     "execution_count": 39,
     "metadata": {},
     "output_type": "execute_result"
    }
   ],
   "source": [
    "\"\"\"\n",
    "# cov_df = pd.read_parquet(f'{GRAPHRAG_FOLDER}/create_final_covariates.parquet')\n",
    "# cov_df.head(2)\n",
    "\"\"\""
   ]
  },
  {
   "cell_type": "code",
   "execution_count": 40,
   "id": "f0d2a7dc-8885-41f0-b971-39628d08b09a",
   "metadata": {},
   "outputs": [],
   "source": [
    "cov_statement = \"\"\"\n",
    "MERGE (c:__Covariate__ {id:value.id})\n",
    "SET c += apoc.map.clean(value, [\"text_unit_id\", \"document_ids\", \"n_tokens\"], [NULL, \"\"])\n",
    "WITH c, value\n",
    "MATCH (ch:__Chunk__ {id: value.text_unit_id})\n",
    "MERGE (ch)-[:HAS_COVARIATE]->(c)\n",
    "\"\"\"\n",
    "# batched_import(cov_statement, cov_df)"
   ]
  }
 ],
 "metadata": {
  "kernelspec": {
   "display_name": "Python 3 (ipykernel)",
   "language": "python",
   "name": "python3"
  },
  "language_info": {
   "codemirror_mode": {
    "name": "ipython",
    "version": 3
   },
   "file_extension": ".py",
   "mimetype": "text/x-python",
   "name": "python",
   "nbconvert_exporter": "python",
   "pygments_lexer": "ipython3",
   "version": "3.11.9"
  }
 },
 "nbformat": 4,
 "nbformat_minor": 5
}
